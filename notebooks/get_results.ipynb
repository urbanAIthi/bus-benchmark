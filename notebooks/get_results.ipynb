{
 "cells": [
  {
   "cell_type": "code",
   "execution_count": null,
   "id": "e133a0a9",
   "metadata": {},
   "outputs": [],
   "source": [
    "%load_ext autoreload\n",
    "%autoreload 2"
   ]
  },
  {
   "cell_type": "code",
   "execution_count": null,
   "id": "a82cb82a",
   "metadata": {},
   "outputs": [],
   "source": [
    "import pandas as pd\n",
    "\n",
    "data_set = \"Rotterdam\"\n",
    "lau_id = \"GM1969\"\n",
    "\n",
    "df_parquet = pd.read_parquet(f\"/data/dev/bus-benchmark-new/data/parquet_data/{lau_id}.parquet\")\n",
    "df_parquet['from_time'] = df_parquet['from_time'].dt.tz_convert('Europe/Amsterdam')\n",
    "df_parquet['to_time'] = df_parquet['to_time'].dt.tz_convert('Europe/Amsterdam')\n",
    "df_parquet"
   ]
  },
  {
   "cell_type": "code",
   "execution_count": null,
   "id": "06bdae06",
   "metadata": {},
   "outputs": [],
   "source": [
    "route = df_parquet['route'].mode()[0]\n",
    "df = df_parquet[df_parquet[\"route\"] == route]\n",
    "data_set_name = f\"{data_set}_{route}\"\n",
    "data_set_name"
   ]
  },
  {
   "cell_type": "code",
   "execution_count": null,
   "id": "9d0ed408",
   "metadata": {},
   "outputs": [],
   "source": [
    "import matplotlib.pyplot as plt\n",
    "\n",
    "df_time = df.copy()\n",
    "df_time.index = df_time['from_time']\n",
    "\n",
    "fig, axes = plt.subplots(6, 1, figsize=(15, 30))\n",
    "\n",
    "weekly_counts = df_time.resample('W').size()\n",
    "weekly_counts.plot(ax=axes[0])\n",
    "axes[0].set_title('Weekly Number of Data Points')\n",
    "axes[0].set_ylabel('Count')\n",
    "axes[0].grid(True)\n",
    "\n",
    "monthly_counts = df_time.resample('M').size()\n",
    "monthly_counts.plot(ax=axes[1])\n",
    "axes[1].set_title('Monthly Number of Data Points')\n",
    "axes[1].set_xlabel('Date')\n",
    "axes[1].set_ylabel('Count')\n",
    "axes[1].grid(True)\n",
    "\n",
    "weekly_mean_travel = df_time.resample('W')['travel_time'].mean()\n",
    "weekly_mean_travel.plot(ax=axes[2])\n",
    "axes[2].set_title('Weekly Mean Travel Time')\n",
    "axes[2].set_ylabel('Time (seconds)')\n",
    "axes[2].grid(True)\n",
    "\n",
    "monthly_mean_travel = df_time.resample('M')['travel_time'].mean()\n",
    "monthly_mean_travel.plot(ax=axes[3])\n",
    "axes[3].set_title('Monthly Mean Travel Time')\n",
    "axes[3].set_xlabel('Date')\n",
    "axes[3].set_ylabel('Time (seconds)')\n",
    "axes[3].grid(True)\n",
    "\n",
    "weekly_std_travel = df_time.resample('W')['travel_time'].std()\n",
    "weekly_std_travel.plot(ax=axes[4])\n",
    "axes[4].set_title('Weekly Std Travel Time')\n",
    "axes[4].set_ylabel('Time (seconds)')\n",
    "axes[4].grid(True)\n",
    "\n",
    "monthly_std_travel = df_time.resample('M')['travel_time'].std()\n",
    "monthly_std_travel.plot(ax=axes[5])\n",
    "axes[5].set_title('Monthly Std Travel Time')\n",
    "axes[5].set_xlabel('Date')\n",
    "axes[5].set_ylabel('Time (seconds)')\n",
    "axes[5].grid(True)\n",
    "\n",
    "plt.suptitle(f'Number of Data Points Over Time for Route {route} in {data_set}', fontsize=16)\n",
    "plt.tight_layout()\n",
    "plt.subplots_adjust(top=0.95)\n",
    "plt.show()"
   ]
  },
  {
   "cell_type": "code",
   "execution_count": null,
   "id": "9258bf11",
   "metadata": {},
   "outputs": [],
   "source": [
    "from bus_benchmark.experiments.fixed_interval_dataset import FixedIntervalDataset\n",
    "\n",
    "fixed_interval_dataset = FixedIntervalDataset(\n",
    "    df,\n",
    "    freq=\"15T\",\n",
    "    drop_ha_below_n_count=100,\n",
    "    ha_agg_func=\"median\",\n",
    "    ffill_limit=16,\n",
    "    mad_thresh=3*1.4826,\n",
    "    interpolate_ha=True,\n",
    "    add_time_feat=False,\n",
    "    calculate_residuals=False,\n",
    "    normalize=False\n",
    ")\n",
    "fixed_interval_dataset"
   ]
  },
  {
   "cell_type": "code",
   "execution_count": null,
   "id": "864d03fc",
   "metadata": {},
   "outputs": [],
   "source": [
    "for train, val, test in fixed_interval_dataset.splits:\n",
    "    print(f'Train: {len(train)}, Val: {len(val)}, Test: {len(test)}')\n",
    "    print(f'NaN: {val[\"travel_time\"].isna().sum()}')"
   ]
  },
  {
   "cell_type": "code",
   "execution_count": null,
   "id": "d34204ac",
   "metadata": {},
   "outputs": [],
   "source": [
    "from bus_benchmark.experiments.multi_step_dataset import MultiStepDataset\n",
    "\n",
    "for df_train, df_val, df_test, df_ha, scaler, absolut_matrix_train in fixed_interval_dataset.data_set:\n",
    "    print(f'Train: {df_train.shape}, Val: {df_val.shape}, Test: {df_test.shape}')\n",
    "    print(f'Train timestamps: {df_train.index[0]} to {df_train.index[-1]}')\n",
    "    print(f'Val timestamps: {df_val.index[0]} to {df_val.index[-1]}')\n",
    "    print(f'Test timestamps: {df_test.index[0]} to {df_test.index[-1]}')\n",
    "    \n",
    "    ds_train = MultiStepDataset(df_train, seq_len=16)\n",
    "    ds_val = MultiStepDataset(df_val, seq_len=16)\n",
    "    ds_test = MultiStepDataset(df_test, seq_len=16)\n",
    "\n",
    "    print(f'Train MSD: {len(ds_train)}, Val: {len(ds_val)}, Test: {len(ds_test)}')\n"
   ]
  },
  {
   "cell_type": "code",
   "execution_count": null,
   "id": "a9a5ec9b",
   "metadata": {},
   "outputs": [],
   "source": [
    "from bus_benchmark.experiments.model.lstm_model_trainer import LSTMModelTrainer\n",
    "\n",
    "fixed_interval_dataset = FixedIntervalDataset(\n",
    "    df,\n",
    "    n_splits=5,\n",
    "    freq=\"15T\",\n",
    "    drop_ha_below_n_count=100,\n",
    "    ha_agg_func=\"median\",\n",
    "    ffill_limit=16,\n",
    "    mad_thresh=3*1.4826,\n",
    "    interpolate_ha=True,\n",
    "    add_time_feat=False,\n",
    ")\n",
    "\n",
    "fixed_interval_model_trainer =  LSTMModelTrainer(\n",
    "    base_dataset = fixed_interval_dataset,\n",
    "    seq_len=16,\n",
    "    n_epochs=50,\n",
    "    data_set_name = data_set_name\n",
    ")\n",
    "fixed_interval_model_trainer._setup_seed(42)\n",
    "fixed_interval_model_trainer.run_experiment()\n",
    "fixed_interval_model_trainer.metrics_manager.final_metrics_list"
   ]
  },
  {
   "cell_type": "code",
   "execution_count": null,
   "id": "a05be664",
   "metadata": {},
   "outputs": [],
   "source": [
    "from bus_benchmark.experiments.model.convlstm_model_trainer import ConvLSTMModelTrainer\n",
    "\n",
    "fixed_interval_dataset = FixedIntervalDataset(\n",
    "    df,\n",
    "    n_splits=5,\n",
    "    freq=\"15T\",\n",
    "    drop_ha_below_n_count=100,\n",
    "    ha_agg_func=\"median\",\n",
    "    ffill_limit=16,\n",
    "    mad_thresh=3*1.4826,\n",
    "    interpolate_ha=True,\n",
    "    add_time_feat=False,\n",
    ")\n",
    "\n",
    "fixed_interval_model_trainer = ConvLSTMModelTrainer(\n",
    "    base_dataset = fixed_interval_dataset,\n",
    "    seq_len=16,\n",
    "    n_epochs=50,\n",
    "    data_set_name = data_set_name\n",
    ")\n",
    "\n",
    "fixed_interval_model_trainer._setup_seed(42)  # For reproducibility\n",
    "fixed_interval_model_trainer.run_experiment()\n",
    "fixed_interval_model_trainer.metrics_manager.final_metrics_list"
   ]
  }
 ],
 "metadata": {
  "kernelspec": {
   "display_name": "bus-benchmark-new",
   "language": "python",
   "name": "python3"
  },
  "language_info": {
   "codemirror_mode": {
    "name": "ipython",
    "version": 3
   },
   "file_extension": ".py",
   "mimetype": "text/x-python",
   "name": "python",
   "nbconvert_exporter": "python",
   "pygments_lexer": "ipython3",
   "version": "3.11.11"
  }
 },
 "nbformat": 4,
 "nbformat_minor": 5
}
